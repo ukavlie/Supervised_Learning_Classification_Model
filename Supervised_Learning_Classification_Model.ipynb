{
 "cells": [
  {
   "cell_type": "markdown",
   "metadata": {},
   "source": [
    "\n",
    "\n",
    "<br><h1>Classification Model Development</h1>\n",
    "<h4>DAT-5303 | Machine Learning</h4>\n",
    "Ulf Kavlie<br>\n",
    "Hult International Business School<br><br><br>\n",
    "\n"
   ]
  },
  {
   "cell_type": "code",
   "execution_count": 1,
   "metadata": {},
   "outputs": [],
   "source": [
    "# importing necessary packages\n",
    "import random as rand                     \n",
    "import pandas as pd                      \n",
    "import matplotlib.pyplot as plt                    \n",
    "import seaborn as sns \n",
    "import numpy as np\n",
    "\n",
    "from sklearn.ensemble import RandomForestClassifier    \n",
    "from sklearn.ensemble import GradientBoostingClassifier \n",
    "from sklearn.model_selection import RandomizedSearchCV \n",
    "from sklearn.metrics import make_scorer               \n",
    "from sklearn.model_selection import train_test_split \n",
    "from sklearn.linear_model import LogisticRegression  \n",
    "from sklearn.metrics import confusion_matrix         \n",
    "from sklearn.metrics import roc_auc_score           \n",
    "from sklearn.neighbors import KNeighborsClassifier   \n",
    "from sklearn.preprocessing import StandardScaler \n",
    "from sklearn.tree import DecisionTreeClassifier    \n",
    "from sklearn.tree import export_graphviz  \n",
    "\n",
    "\n",
    "from six import StringIO          \n",
    "from IPython.display import Image                 \n",
    "import pydotplus   \n",
    "  "
   ]
  },
  {
   "cell_type": "code",
   "execution_count": 2,
   "metadata": {},
   "outputs": [
    {
     "data": {
      "text/html": [
       "<div>\n",
       "<style scoped>\n",
       "    .dataframe tbody tr th:only-of-type {\n",
       "        vertical-align: middle;\n",
       "    }\n",
       "\n",
       "    .dataframe tbody tr th {\n",
       "        vertical-align: top;\n",
       "    }\n",
       "\n",
       "    .dataframe thead th {\n",
       "        text-align: right;\n",
       "    }\n",
       "</style>\n",
       "<table border=\"1\" class=\"dataframe\">\n",
       "  <thead>\n",
       "    <tr style=\"text-align: right;\">\n",
       "      <th></th>\n",
       "      <th>REVENUE</th>\n",
       "      <th>CROSS_SELL_SUCCESS</th>\n",
       "      <th>NAME</th>\n",
       "      <th>EMAIL</th>\n",
       "      <th>FIRST_NAME</th>\n",
       "      <th>FAMILY_NAME</th>\n",
       "      <th>TOTAL_MEALS_ORDERED</th>\n",
       "      <th>UNIQUE_MEALS_PURCH</th>\n",
       "      <th>CONTACTS_W_CUSTOMER_SERVICE</th>\n",
       "      <th>PRODUCT_CATEGORIES_VIEWED</th>\n",
       "      <th>...</th>\n",
       "      <th>EARLY_DELIVERIES</th>\n",
       "      <th>LATE_DELIVERIES</th>\n",
       "      <th>PACKAGE_LOCKER</th>\n",
       "      <th>REFRIGERATED_LOCKER</th>\n",
       "      <th>AVG_PREP_VID_TIME</th>\n",
       "      <th>AVG_ORDER_SIZE</th>\n",
       "      <th>MASTER_CLASSES_ATTENDED</th>\n",
       "      <th>MEDIAN_MEAL_RATING</th>\n",
       "      <th>AVG_CLICKS_PER_VISIT</th>\n",
       "      <th>TOTAL_PHOTOS_VIEWED</th>\n",
       "    </tr>\n",
       "  </thead>\n",
       "  <tbody>\n",
       "    <tr>\n",
       "      <th>0</th>\n",
       "      <td>393.0</td>\n",
       "      <td>1</td>\n",
       "      <td>Saathos</td>\n",
       "      <td>saathos@unitedhealth.com</td>\n",
       "      <td>Saathos</td>\n",
       "      <td>Saathos</td>\n",
       "      <td>14</td>\n",
       "      <td>6</td>\n",
       "      <td>12</td>\n",
       "      <td>10</td>\n",
       "      <td>...</td>\n",
       "      <td>0</td>\n",
       "      <td>2</td>\n",
       "      <td>0</td>\n",
       "      <td>0</td>\n",
       "      <td>33.4</td>\n",
       "      <td>1</td>\n",
       "      <td>0</td>\n",
       "      <td>1</td>\n",
       "      <td>17.0</td>\n",
       "      <td>0</td>\n",
       "    </tr>\n",
       "    <tr>\n",
       "      <th>1</th>\n",
       "      <td>1365.0</td>\n",
       "      <td>1</td>\n",
       "      <td>Alysanne Osgrey</td>\n",
       "      <td>alysanne.osgrey@ge.org</td>\n",
       "      <td>Alysanne</td>\n",
       "      <td>Osgrey</td>\n",
       "      <td>87</td>\n",
       "      <td>3</td>\n",
       "      <td>8</td>\n",
       "      <td>8</td>\n",
       "      <td>...</td>\n",
       "      <td>0</td>\n",
       "      <td>2</td>\n",
       "      <td>0</td>\n",
       "      <td>0</td>\n",
       "      <td>84.8</td>\n",
       "      <td>1</td>\n",
       "      <td>0</td>\n",
       "      <td>3</td>\n",
       "      <td>13.0</td>\n",
       "      <td>170</td>\n",
       "    </tr>\n",
       "    <tr>\n",
       "      <th>2</th>\n",
       "      <td>800.0</td>\n",
       "      <td>1</td>\n",
       "      <td>Edwyd Fossoway</td>\n",
       "      <td>edwyd.fossoway@jnj.com</td>\n",
       "      <td>Edwyd</td>\n",
       "      <td>Fossoway</td>\n",
       "      <td>15</td>\n",
       "      <td>7</td>\n",
       "      <td>11</td>\n",
       "      <td>5</td>\n",
       "      <td>...</td>\n",
       "      <td>0</td>\n",
       "      <td>1</td>\n",
       "      <td>0</td>\n",
       "      <td>0</td>\n",
       "      <td>63.0</td>\n",
       "      <td>1</td>\n",
       "      <td>0</td>\n",
       "      <td>2</td>\n",
       "      <td>16.0</td>\n",
       "      <td>0</td>\n",
       "    </tr>\n",
       "    <tr>\n",
       "      <th>3</th>\n",
       "      <td>600.0</td>\n",
       "      <td>1</td>\n",
       "      <td>Eleyna Westerling</td>\n",
       "      <td>eleyna.westerling@ge.org</td>\n",
       "      <td>Eleyna</td>\n",
       "      <td>Westerling</td>\n",
       "      <td>13</td>\n",
       "      <td>6</td>\n",
       "      <td>11</td>\n",
       "      <td>5</td>\n",
       "      <td>...</td>\n",
       "      <td>0</td>\n",
       "      <td>3</td>\n",
       "      <td>0</td>\n",
       "      <td>0</td>\n",
       "      <td>43.8</td>\n",
       "      <td>1</td>\n",
       "      <td>0</td>\n",
       "      <td>2</td>\n",
       "      <td>14.0</td>\n",
       "      <td>0</td>\n",
       "    </tr>\n",
       "    <tr>\n",
       "      <th>4</th>\n",
       "      <td>1490.0</td>\n",
       "      <td>1</td>\n",
       "      <td>Elyn Norridge</td>\n",
       "      <td>elyn.norridge@jnj.com</td>\n",
       "      <td>Elyn</td>\n",
       "      <td>Norridge</td>\n",
       "      <td>47</td>\n",
       "      <td>8</td>\n",
       "      <td>6</td>\n",
       "      <td>10</td>\n",
       "      <td>...</td>\n",
       "      <td>0</td>\n",
       "      <td>8</td>\n",
       "      <td>0</td>\n",
       "      <td>0</td>\n",
       "      <td>84.8</td>\n",
       "      <td>1</td>\n",
       "      <td>1</td>\n",
       "      <td>3</td>\n",
       "      <td>12.0</td>\n",
       "      <td>205</td>\n",
       "    </tr>\n",
       "  </tbody>\n",
       "</table>\n",
       "<p>5 rows × 28 columns</p>\n",
       "</div>"
      ],
      "text/plain": [
       "   REVENUE  CROSS_SELL_SUCCESS               NAME                     EMAIL  \\\n",
       "0    393.0                   1            Saathos  saathos@unitedhealth.com   \n",
       "1   1365.0                   1    Alysanne Osgrey    alysanne.osgrey@ge.org   \n",
       "2    800.0                   1     Edwyd Fossoway    edwyd.fossoway@jnj.com   \n",
       "3    600.0                   1  Eleyna Westerling  eleyna.westerling@ge.org   \n",
       "4   1490.0                   1      Elyn Norridge     elyn.norridge@jnj.com   \n",
       "\n",
       "  FIRST_NAME FAMILY_NAME  TOTAL_MEALS_ORDERED  UNIQUE_MEALS_PURCH  \\\n",
       "0    Saathos     Saathos                   14                   6   \n",
       "1   Alysanne      Osgrey                   87                   3   \n",
       "2      Edwyd    Fossoway                   15                   7   \n",
       "3     Eleyna  Westerling                   13                   6   \n",
       "4       Elyn    Norridge                   47                   8   \n",
       "\n",
       "   CONTACTS_W_CUSTOMER_SERVICE  PRODUCT_CATEGORIES_VIEWED  ...  \\\n",
       "0                           12                         10  ...   \n",
       "1                            8                          8  ...   \n",
       "2                           11                          5  ...   \n",
       "3                           11                          5  ...   \n",
       "4                            6                         10  ...   \n",
       "\n",
       "   EARLY_DELIVERIES  LATE_DELIVERIES  PACKAGE_LOCKER  REFRIGERATED_LOCKER  \\\n",
       "0                 0                2               0                    0   \n",
       "1                 0                2               0                    0   \n",
       "2                 0                1               0                    0   \n",
       "3                 0                3               0                    0   \n",
       "4                 0                8               0                    0   \n",
       "\n",
       "   AVG_PREP_VID_TIME  AVG_ORDER_SIZE  MASTER_CLASSES_ATTENDED  \\\n",
       "0               33.4               1                        0   \n",
       "1               84.8               1                        0   \n",
       "2               63.0               1                        0   \n",
       "3               43.8               1                        0   \n",
       "4               84.8               1                        1   \n",
       "\n",
       "   MEDIAN_MEAL_RATING  AVG_CLICKS_PER_VISIT  TOTAL_PHOTOS_VIEWED  \n",
       "0                   1                  17.0                    0  \n",
       "1                   3                  13.0                  170  \n",
       "2                   2                  16.0                    0  \n",
       "3                   2                  14.0                    0  \n",
       "4                   3                  12.0                  205  \n",
       "\n",
       "[5 rows x 28 columns]"
      ]
     },
     "execution_count": 2,
     "metadata": {},
     "output_type": "execute_result"
    }
   ],
   "source": [
    "file = \"./Apprentice_Chef_Dataset.xlsx\"\n",
    "data_types = {\"AVG_CLICKS_PER_VISIT\":float} # change type of AVG_CLICKS_PER_VISIT according to data dictionary\n",
    "df = pd.read_excel(io = file,\n",
    "                   dtype = data_types\n",
    "                  )\n",
    "df = df.rename(columns = {\"LARGEST_ORDER_SIZE\" : \"AVG_ORDER_SIZE\"}) # Renaming LARGEST_ORDER_SIZE to AVG_ORDER_SIZE\n",
    "df.head()"
   ]
  },
  {
   "cell_type": "markdown",
   "metadata": {},
   "source": [
    "# FEATURE ENGINEERING"
   ]
  },
  {
   "cell_type": "markdown",
   "metadata": {},
   "source": [
    "## CONTINUOUS VARIABLES"
   ]
  },
  {
   "cell_type": "code",
   "execution_count": 3,
   "metadata": {},
   "outputs": [
    {
     "data": {
      "image/png": "[encoded data removed]",
      "text/plain": [
       "<Figure size 360x360 with 1 Axes>"
      ]
     },
     "metadata": {
      "needs_background": "light"
     },
     "output_type": "display_data"
    }
   ],
   "source": [
    "# Looking at the distribution of \"REVENUE\"\n",
    "\n",
    "sns.displot(x = \"REVENUE\",\n",
    "           data = df)\n",
    "\n",
    "plt.tight_layout()\n",
    "plt.show()"
   ]
  },
  {
   "cell_type": "code",
   "execution_count": 4,
   "metadata": {},
   "outputs": [],
   "source": [
    "# log-transforming \"REVENUE\"\n",
    "\n",
    "df[\"log_REVENUE\"] = np.log10(df[\"REVENUE\"])"
   ]
  },
  {
   "cell_type": "code",
   "execution_count": 5,
   "metadata": {},
   "outputs": [
    {
     "data": {
      "image/png": "[encoded data removed]",
      "text/plain": [
       "<Figure size 720x360 with 2 Axes>"
      ]
     },
     "metadata": {
      "needs_background": "light"
     },
     "output_type": "display_data"
    }
   ],
   "source": [
    "fig, ax = plt.subplots(figsize = (10,5))\n",
    "\n",
    "plt.subplot(1,2,1)\n",
    "sns.histplot(x = \"REVENUE\",\n",
    "             data = df\n",
    "            )\n",
    "plt.subplot(1,2,2)\n",
    "sns.histplot(x = \"log_REVENUE\",\n",
    "             data = df\n",
    "            )\n",
    "\n",
    "plt.tight_layout()\n",
    "plt.show()"
   ]
  },
  {
   "cell_type": "code",
   "execution_count": 6,
   "metadata": {
    "code_folding": []
   },
   "outputs": [
    {
     "data": {
      "image/png": "[encoded data removed]",
      "text/plain": [
       "<Figure size 720x864 with 4 Axes>"
      ]
     },
     "metadata": {
      "needs_background": "light"
     },
     "output_type": "display_data"
    }
   ],
   "source": [
    "# Showing histogram for variables\n",
    "\n",
    "fig, ax = plt.subplots(figsize = (10,12))\n",
    "\n",
    "plt.subplot(2,2,1)\n",
    "sns.histplot(x = df[\"TOTAL_MEALS_ORDERED\"],\n",
    "            color = \"green\")\n",
    "\n",
    "plt.subplot(2,2,2)\n",
    "sns.histplot(x = df[\"AVG_TIME_PER_SITE_VISIT\"],\n",
    "            color = \"blue\")\n",
    "\n",
    "plt.subplot(2,2,3)\n",
    "sns.histplot(x = df[\"TOTAL_PHOTOS_VIEWED\"],\n",
    "            color = \"red\")\n",
    "\n",
    "plt.subplot(2,2,4)\n",
    "sns.histplot(x = df[\"AVG_PREP_VID_TIME\"],\n",
    "            color = \"orange\")\n",
    "\n",
    "plt.tight_layout()\n",
    "plt.show()"
   ]
  },
  {
   "cell_type": "code",
   "execution_count": 7,
   "metadata": {},
   "outputs": [
    {
     "name": "stdout",
     "output_type": "stream",
     "text": [
      "\n",
      "                 Zero\t\tOther Values\n",
      "                -----------------------------\n",
      "Photos         | 1140\t\t806\n"
     ]
    }
   ],
   "source": [
    "# Checking the column TOTAL_PHOTOS_VIEWED for number of 0 vs non-0\n",
    "\n",
    "photo_zeroes = sum(df[\"TOTAL_PHOTOS_VIEWED\"]==0)\n",
    "\n",
    "\n",
    "print(f\"\"\"\n",
    "                 Zero\\t\\tOther Values\n",
    "                -----------------------------\n",
    "Photos         | {photo_zeroes}\\t\\t{len(df) - photo_zeroes}\"\"\")"
   ]
  },
  {
   "cell_type": "code",
   "execution_count": 8,
   "metadata": {},
   "outputs": [],
   "source": [
    "# Creating a dummie variable for column \"TOTAL_PHOTOS_VIEWED\"\n",
    "\n",
    "df[\"VIEWS_PHOTO\"]=0\n",
    "for index, value in df.iterrows():\n",
    "    if df.loc[index,\"TOTAL_PHOTOS_VIEWED\"]>0:\n",
    "        df.loc[index,\"VIEWS_PHOTO\"]=1"
   ]
  },
  {
   "cell_type": "code",
   "execution_count": 9,
   "metadata": {},
   "outputs": [],
   "source": [
    "# log-transforming \"TOTAL_MEALS_ORDERED\", \"AVG_PREP_VID_TIME\" and \"AVG_TIME_PER_SITE_VISIT\"\n",
    "\n",
    "df[\"log_TOTAL_MEALS_ORDERED\"]= np.log10(df[\"TOTAL_MEALS_ORDERED\"])\n",
    "df[\"log_AVG_TIME_PER_SITE_VISIT\"]= np.log10(df[\"AVG_TIME_PER_SITE_VISIT\"])\n",
    "df[\"log_AVG_PREP_VID_TIME\"]=np.log(df[\"AVG_PREP_VID_TIME\"])\n",
    "\n",
    "# log-transforming \"TOTAL_PHOTOS_VIEWED\" which has 0\n",
    "df[\"log_TOTAL_PHOTOS_VIEWED\"]=0\n",
    "for index, value in df.iterrows():\n",
    "    if df.loc[index,\"TOTAL_PHOTOS_VIEWED\"]==0:\n",
    "        df.loc[index,\"log_TOTAL_PHOTOS_VIEWED\"]=np.log10(0.01)\n",
    "    else:\n",
    "        df.loc[index,\"log_TOTAL_PHOTOS_VIEWED\"] = np.log10(df.loc[index, \"TOTAL_PHOTOS_VIEWED\"])"
   ]
  },
  {
   "cell_type": "code",
   "execution_count": 10,
   "metadata": {},
   "outputs": [
    {
     "data": {
      "image/png": "[encoded data removed]",
      "text/plain": [
       "<Figure size 720x576 with 4 Axes>"
      ]
     },
     "metadata": {
      "needs_background": "light"
     },
     "output_type": "display_data"
    }
   ],
   "source": [
    "# Checking the new distributions\n",
    "\n",
    "fig, ax = plt.subplots(figsize = (10,8))\n",
    "\n",
    "plt.subplot(2,2,1)\n",
    "sns.histplot(x = df[\"log_TOTAL_MEALS_ORDERED\"],\n",
    "            color = \"green\")\n",
    "\n",
    "plt.subplot(2,2,2)\n",
    "sns.histplot(x = df[\"log_AVG_TIME_PER_SITE_VISIT\"],\n",
    "            color = \"blue\")\n",
    "\n",
    "plt.subplot(2,2,3)\n",
    "sns.histplot(x = df[\"log_AVG_PREP_VID_TIME\"],\n",
    "            color = \"red\")\n",
    "\n",
    "plt.subplot(2,2,4)\n",
    "sns.histplot(x = df[\"log_TOTAL_PHOTOS_VIEWED\"],\n",
    "            color = \"purple\")\n",
    "\n",
    "plt.tight_layout()\n",
    "plt.show()"
   ]
  },
  {
   "cell_type": "code",
   "execution_count": 11,
   "metadata": {
    "code_folding": []
   },
   "outputs": [
    {
     "data": {
      "image/png": "[encoded data removed]",
      "text/plain": [
       "<Figure size 720x576 with 2 Axes>"
      ]
     },
     "metadata": {
      "needs_background": "light"
     },
     "output_type": "display_data"
    }
   ],
   "source": [
    "# CHECKING FOR CORRELATIONS \n",
    "\n",
    "fig, ax = plt.subplots(figsize=(10,8))\n",
    "\n",
    "continuous = [\"TOTAL_MEALS_ORDERED\",\"AVG_TIME_PER_SITE_VISIT\",\"TOTAL_PHOTOS_VIEWED\",\n",
    "              \"AVG_PREP_VID_TIME\",\"log_TOTAL_MEALS_ORDERED\",\"log_AVG_TIME_PER_SITE_VISIT\",\n",
    "              \"log_AVG_PREP_VID_TIME\",\"log_REVENUE\",\"CROSS_SELL_SUCCESS\",\"log_TOTAL_PHOTOS_VIEWED\"]\n",
    "\n",
    "continuous_corr = df[continuous].corr(method = \"pearson\")\n",
    "\n",
    "\n",
    "sns.heatmap(continuous_corr.loc[[\"TOTAL_MEALS_ORDERED\",\"AVG_TIME_PER_SITE_VISIT\",\n",
    "                                 \"TOTAL_PHOTOS_VIEWED\",\"AVG_PREP_VID_TIME\",\"log_TOTAL_MEALS_ORDERED\",\n",
    "                                 \"log_AVG_TIME_PER_SITE_VISIT\",\"log_AVG_PREP_VID_TIME\",\"log_TOTAL_PHOTOS_VIEWED\"],\n",
    "                                [\"CROSS_SELL_SUCCESS\"]].sort_values(by = \"CROSS_SELL_SUCCESS\", ascending = False),\n",
    "            annot = True,\n",
    "            cmap = \"coolwarm\",\n",
    "            linecolor = \"black\",\n",
    "            linewidth = 0.5\n",
    "           )\n",
    "\n",
    "plt.title(\"\"\"\n",
    "CORRELATIONS BETWEEN CROSS SELL SUCCESS VARIABLES AND CONTINUOUS VARIABLES\n",
    "\n",
    "\"\"\")\n",
    "plt.tight_layout()\n",
    "plt.show()"
   ]
  },
  {
   "cell_type": "markdown",
   "metadata": {},
   "source": [
    "## INTERVAL VARIABLES\n",
    "\n",
    "- MEDIAN_MEAL_RATING\n",
    "- PRODUCT_CATEGORIES_VIEWED\n",
    "- AVG_ORDER_SIZE \n",
    "- WEEKLY_PLAN\n",
    "- EARLY_DELIVERIES\n",
    "- LATE_DELIVERIES\n",
    "- CANCELLATIONS_BEFORE_NOON\n",
    "- CANCELLATIONS_AFTER_NOON\n",
    "- MASTER_CLASSES_ATTENDED\n",
    "- UNIQUE_MEALS_PURCH\n",
    "- AVG_CLICKS_PER_VISIT\n",
    "- CONTACTS_W_CUSTOMER_SERVICE\n",
    "- PC_LOGINS\n",
    "- MOBILE_LOGINS"
   ]
  },
  {
   "cell_type": "code",
   "execution_count": 12,
   "metadata": {},
   "outputs": [],
   "source": [
    "int_var = [\"MEDIAN_MEAL_RATING\", \"PRODUCT_CATEGORIES_VIEWED\", \"AVG_ORDER_SIZE\" , \"WEEKLY_PLAN\", \"EARLY_DELIVERIES\",\n",
    "\"LATE_DELIVERIES\", \"CANCELLATIONS_BEFORE_NOON\", \"CANCELLATIONS_AFTER_NOON\", \"MASTER_CLASSES_ATTENDED\",\n",
    "\"UNIQUE_MEALS_PURCH\", \"AVG_CLICKS_PER_VISIT\", \"CONTACTS_W_CUSTOMER_SERVICE\", \"PC_LOGINS\", \"MOBILE_LOGINS\"]"
   ]
  },
  {
   "cell_type": "code",
   "execution_count": 13,
   "metadata": {},
   "outputs": [
    {
     "name": "stdout",
     "output_type": "stream",
     "text": [
      "\n",
      "                  HIGH\t\tOTHER\n",
      "                 ---------------------\n",
      "Attends MC      | 1014\t\t932\n",
      "Contact w/CS    | 216\t\t1730\n",
      "\n",
      "\n"
     ]
    }
   ],
   "source": [
    "#CHECKING COUNT MASTERCLASSES ATTENDED\n",
    "attends_masterclass = sum(df[\"MASTER_CLASSES_ATTENDED\"]>0)\n",
    "\n",
    "#CHECKING COUNT OF CONTACTS WITH CUSTOMER SERVICE ABOVE 11\n",
    "high_cs_contact = sum(df[\"CONTACTS_W_CUSTOMER_SERVICE\"]>=11)\n",
    "\n",
    "print(f\"\"\"\n",
    "                  HIGH\\t\\tOTHER\n",
    "                 ---------------------\n",
    "Attends MC      | {attends_masterclass}\\t\\t{len(df) - attends_masterclass}\n",
    "Contact w/CS    | {high_cs_contact}\\t\\t{len(df) - high_cs_contact}\n",
    "\n",
    "\"\"\")"
   ]
  },
  {
   "cell_type": "code",
   "execution_count": 14,
   "metadata": {},
   "outputs": [],
   "source": [
    "# Creating categorical variable from interval\n",
    "\n",
    "df[\"HIGH_CONTACT_W_CUSTOMER_SUPPORT\"]=0\n",
    "for index, value in df.iterrows():\n",
    "    if df.loc[index,\"CONTACTS_W_CUSTOMER_SERVICE\"]>=11:\n",
    "        df.loc[index,\"HIGH_CONTACT_W_CUSTOMER_SUPPORT\"]=1\n",
    "        \n",
    "df[\"ATTENDS_MASTER_CLASS\"]=0\n",
    "for index, value in df.iterrows():\n",
    "    if df.loc[index,\"MASTER_CLASSES_ATTENDED\"]>0:\n",
    "        df.loc[index,\"ATTENDS_MASTER_CLASS\"]=1"
   ]
  },
  {
   "cell_type": "code",
   "execution_count": 15,
   "metadata": {},
   "outputs": [
    {
     "data": {
      "image/png": "[encoded data removed]",
      "text/plain": [
       "<Figure size 720x360 with 2 Axes>"
      ]
     },
     "metadata": {
      "needs_background": "light"
     },
     "output_type": "display_data"
    }
   ],
   "source": [
    "# Checking correlations for interval variables\n",
    "\n",
    "fig, ax = plt.subplots(figsize = (10,5))\n",
    "\n",
    "int_var = [\"UNIQUE_MEALS_PURCH\",\"MEDIAN_MEAL_RATING\",\n",
    "           \"AVG_CLICKS_PER_VISIT\",\"MASTER_CLASSES_ATTENDED\",\n",
    "           \"CONTACTS_W_CUSTOMER_SERVICE\",\"CROSS_SELL_SUCCESS\"]\n",
    "\n",
    "interval_corr = df[int_var].corr(method = \"pearson\")\n",
    "\n",
    "\n",
    "sns.heatmap(interval_corr.loc[[\"UNIQUE_MEALS_PURCH\",\"MEDIAN_MEAL_RATING\",\n",
    "                               \"AVG_CLICKS_PER_VISIT\",\"MASTER_CLASSES_ATTENDED\",\n",
    "                               \"CONTACTS_W_CUSTOMER_SERVICE\"],\n",
    "                              [\"CROSS_SELL_SUCCESS\"]].sort_values(by = \"CROSS_SELL_SUCCESS\", ascending = False),\n",
    "            annot = True,\n",
    "            cmap = \"coolwarm\",\n",
    "            linecolor = \"black\",\n",
    "            linewidth = 0.5\n",
    "           )\n",
    "plt.title(\"\"\"\n",
    "CORRELATIONS BETWEEN CROSS SELL SUCCESS VARIABLES AND INTERVAL VARIABLES\n",
    "\n",
    "\"\"\")\n",
    "plt.tight_layout()\n",
    "plt.show()"
   ]
  },
  {
   "cell_type": "markdown",
   "metadata": {},
   "source": [
    "## CATEGORICAL VARIABLES\n",
    "\n",
    "- TASTES_AND_PREFERENCES\n",
    "- PACKAGE_LOCKER\n",
    "- REFRIGERATED_LOCKER\n",
    "- HIGH_CONTACT_W_CUSTOMER_SUPPORT\n",
    "- VIEWS_PHOTO\n",
    "- ATTENDS_MASTER_CLASS"
   ]
  },
  {
   "cell_type": "code",
   "execution_count": 16,
   "metadata": {},
   "outputs": [],
   "source": [
    "# creating dummies on email\n",
    "\n",
    "# empty list\n",
    "placeholder_lst = []\n",
    "\n",
    "# looping over each email address\n",
    "for index, col in df.iterrows():\n",
    "    \n",
    "    # splitting email domain at '@'\n",
    "    split_email = df.loc[index, 'EMAIL'].split(sep = \"@\")\n",
    "    \n",
    "    # appending placeholder_lst with the results\n",
    "    placeholder_lst.append(split_email)\n",
    "    \n",
    "\n",
    "# converting placeholder_lst into a DataFrame \n",
    "email_df = pd.DataFrame(placeholder_lst)\n",
    "\n",
    "\n",
    "\n",
    "# renaming column to concatenate\n",
    "email_df.columns = [\"0\" , \"personal_email_domain\"]\n",
    "\n",
    "\n",
    "# concatenating personal_email_domain with main df\n",
    "df = pd.concat([df, email_df[\"personal_email_domain\"]],\n",
    "                   axis = 1)\n",
    "\n",
    "\n",
    "# list of professional email domains\n",
    "prof_domain = [\"mmm.com\",\"amex.com\",\"apple.com\",\"boeing.com\",\"caterpillar.com\",\n",
    "               \"chevron.com\",\"cisco.com\",\"cocacola.com\",\"disney.com\",\"dupont.com\",\n",
    "               \"exxon.com\",\"ge.org\",\"goldmansacs.com\",\"homedepot.com\",\"ibm.com\",\n",
    "               \"intel.com\",\"jnj.com\",\"jpmorgan.com\",\"mcdonalds.com\",\"merck.com\",\n",
    "               \"microsoft.com\",\"nike.com\",\"pfizer.com\",\"pg.com\",\"travelers.com\",\n",
    "               \"unitedtech.com\",\"unitedhealth.com\",\"verizon.com\",\"visa.com\",\n",
    "               \"walmart.com\"]\n",
    "\n",
    "# lsit of personal email domains\n",
    "personal_domain  = [\"gmail.com\",\"yahoo.com\",\"protonmail.com\"]\n",
    "\n",
    "# list of junk domains\n",
    "junk_domain     = [\"me.com\",\"aol.com\",\"hotmail.com\",\"live.com\",\"msn.com\",\"passport.com\"]\n",
    "\n",
    "# looping over every email and creating categorical lists\n",
    "placeholder_lst = []\n",
    "for domain in df['personal_email_domain']:\n",
    "        if domain in personal_domain:\n",
    "            placeholder_lst.append('DUMMIE_PERSONAL')\n",
    "            \n",
    "        elif domain in prof_domain:\n",
    "            placeholder_lst.append('DUMMIE_PROFESSIONAL')\n",
    "            \n",
    "        elif domain in junk_domain:\n",
    "            placeholder_lst.append('DUMMIE_JUNK')\n",
    "            \n",
    "        else:\n",
    "            print('Unknown')\n",
    "\n",
    "\n",
    "# concatenating with original DataFrame\n",
    "df['domain_group'] = pd.Series(placeholder_lst)\n"
   ]
  },
  {
   "cell_type": "code",
   "execution_count": 17,
   "metadata": {},
   "outputs": [],
   "source": [
    "# transforming domains_dummie to actual dummies, dropping first\n",
    "domains_dummie = pd.get_dummies(df[\"domain_group\"], drop_first = True)\n",
    "\n",
    "# joining with df\n",
    "df = df.join(domains_dummie)"
   ]
  },
  {
   "cell_type": "code",
   "execution_count": 18,
   "metadata": {},
   "outputs": [],
   "source": [
    "cat_var = [\"CROSS_SELL_SUCCESS\", \"TASTES_AND_PREFERENCES\", \"PACKAGE_LOCKER\",\n",
    "           \"REFRIGERATED_LOCKER\",\"HIGH_CONTACT_W_CUSTOMER_SUPPORT\",\n",
    "           \"VIEWS_PHOTO\",\"DUMMIE_PERSONAL\",\"DUMMIE_PROFESSIONAL\",\"ATTENDS_MASTER_CLASS\"]"
   ]
  },
  {
   "cell_type": "code",
   "execution_count": 19,
   "metadata": {
    "code_folding": []
   },
   "outputs": [
    {
     "data": {
      "image/png": "[encoded data removed]",
      "text/plain": [
       "<Figure size 720x432 with 2 Axes>"
      ]
     },
     "metadata": {
      "needs_background": "light"
     },
     "output_type": "display_data"
    }
   ],
   "source": [
    "# Checking correlation for all categorical variables, including those created\n",
    "fig, ax = plt.subplots(figsize = (10,6))\n",
    "\n",
    "cat_corr = df[cat_var].corr()\n",
    "\n",
    "sns.heatmap(cat_corr.loc[[\"TASTES_AND_PREFERENCES\",\n",
    "                          \"PACKAGE_LOCKER\",\"REFRIGERATED_LOCKER\",\n",
    "                          \"HIGH_CONTACT_W_CUSTOMER_SUPPORT\", \"VIEWS_PHOTO\",\n",
    "                          \"DUMMIE_PERSONAL\",\"DUMMIE_PROFESSIONAL\",\"ATTENDS_MASTER_CLASS\"],\n",
    "                         [\"CROSS_SELL_SUCCESS\"]].sort_values(by = \"CROSS_SELL_SUCCESS\", ascending = False),\n",
    "            cmap = \"coolwarm\",\n",
    "            annot = True,\n",
    "            linecolor = \"black\",\n",
    "            linewidth = 0.5)\n",
    "plt.title(\"\"\"\n",
    "CORRELATIONS BETWEEN CROSS SELL SUCCESS VARIABLES AND CATEGORICAL VARIABLES\n",
    "\"\"\")\n",
    "\n",
    "plt.tight_layout()\n",
    "plt.show()"
   ]
  },
  {
   "cell_type": "markdown",
   "metadata": {},
   "source": [
    "# FURTHER FEATURE ENGINEERING"
   ]
  },
  {
   "cell_type": "code",
   "execution_count": 20,
   "metadata": {},
   "outputs": [],
   "source": [
    "# Creating new variables\n",
    "\n",
    "# Share of total meals ordered that are unique\n",
    "df[\"SHARES_UNIQUE\"]=df[\"UNIQUE_MEALS_PURCH\"]/df[\"TOTAL_MEALS_ORDERED\"]\n",
    "\n",
    "# How much does a customer explore on their website/app\n",
    "df[\"EXPLORATION\"]=df[\"TOTAL_PHOTOS_VIEWED\"]+df[\"PRODUCT_CATEGORIES_VIEWED\"]\n",
    "\n",
    "# How much does a customer explore on their website/app on average per visit\n",
    "df[\"TOTAL_LOGIN\"]=df[\"MOBILE_LOGINS\"]+df[\"PC_LOGINS\"] \n",
    "df[\"AVG_EXPLORATION\"]=df[\"EXPLORATION\"]/df[\"TOTAL_LOGIN\"]\n",
    "\n",
    "# Share of orders that are cancelled\n",
    "df[\"TOTAL_CANCELLATION\"] = df[\"CANCELLATIONS_AFTER_NOON\"]+df[\"CANCELLATIONS_BEFORE_NOON\"]\n",
    "df[\"CANCELLATION_PERCENTAGE\"] = df[\"TOTAL_CANCELLATION\"]/df[\"TOTAL_MEALS_ORDERED\"]\n",
    "\n",
    "# How much time they spend in total \n",
    "df[\"AVG_SITE_TIME\"]=(df[\"AVG_TIME_PER_SITE_VISIT\"]+df[\"AVG_PREP_VID_TIME\"])\n",
    "\n",
    "# Complain as a percentage of meals ordered\n",
    "df[\"COMPLAIN_RATIO\"] = df[\"CONTACTS_W_CUSTOMER_SERVICE\"]/df[\"TOTAL_MEALS_ORDERED\"]\n",
    "\n",
    "# Average spending\n",
    "df[\"AVG_SPENDING\"] = df[\"REVENUE\"]/df[\"TOTAL_MEALS_ORDERED\"]\n",
    "\n",
    "# creating name lenght variable\n",
    "df[\"NAME_LENGTH\"]=0\n",
    "for index, value in df.iterrows():\n",
    "    df.loc[index,\"NAME_LENGTH\"]=len(df.loc[index,\"NAME\"].split())\n",
    "    \n",
    "# creating dummies for those who spend above and below upper/lower quantile\n",
    "df[\"SMALL_SPENDER\"] = 0\n",
    "for index, value in df.iterrows():\n",
    "    if df.loc[index,\"REVENUE\"]<df[\"REVENUE\"].quantile(.25):\n",
    "        df.loc[index,\"SMALL_SPENDER\"]=1\n",
    "df[\"BIG_SPENDER\"] = 0\n",
    "for index, value in df.iterrows():\n",
    "    if df.loc[index,\"REVENUE\"]>df[\"REVENUE\"].quantile(.75):\n",
    "        df.loc[index,\"BIG_SPENDER\"]=1"
   ]
  },
  {
   "cell_type": "code",
   "execution_count": 21,
   "metadata": {},
   "outputs": [],
   "source": [
    "# Transforming necessary data to log\n",
    "\n",
    "df[\"log_SHARES_UNIQUE\"] = np.log10(df[\"SHARES_UNIQUE\"])\n",
    "df[\"log_AVG_SITE_TIME\"] = np.log10(df[\"AVG_SITE_TIME\"])\n",
    "df[\"log_COMPLAIN_RATIO\"]=np.log10(df[\"COMPLAIN_RATIO\"])\n",
    "\n",
    "# log-transformation of cancellation percentage, which contains 0\n",
    "df[\"log_CANCELLATION_PERCENTAGE\"]=0\n",
    "# looping over every value\n",
    "for index, value in df.iterrows():\n",
    "    # checks for 0 values\n",
    "    if df.loc[index,\"CANCELLATION_PERCENTAGE\"]==0:\n",
    "        # takes log10 of 0.001\n",
    "        df.loc[index,\"log_CANCELLATION_PERCENTAGE\"]=np.log10(0.001)\n",
    "    else:\n",
    "        df.loc[index,\"log_CANCELLATION_PERCENTAGE\"] = np.log10(df.loc[index, \"CANCELLATION_PERCENTAGE\"])\n",
    "\n",
    "# Dummie variable of customers who cancels       \n",
    "df[\"CANCELLING_CUSTOMER\"]=0\n",
    "for index, value in df.iterrows():\n",
    "    if df.loc[index,\"TOTAL_CANCELLATION\"]>0:\n",
    "        df.loc[index,\"CANCELLING_CUSTOMER\"]=1\n",
    "\n"
   ]
  },
  {
   "cell_type": "code",
   "execution_count": 22,
   "metadata": {},
   "outputs": [],
   "source": [
    "# dummie of weekly plan by quarters\n",
    "\n",
    "df['WEEKLY_PLAN_6months']   = 0\n",
    "df['WEEKLY_PLAN_9months']   = 0\n",
    "df['WEEKLY_PLAN_12months']   = 0\n",
    "\n",
    "# Looping over weekly plan\n",
    "for index, value in df.iterrows():       \n",
    "    if df.loc[index, 'WEEKLY_PLAN'] <= 26 and df.loc[index, 'WEEKLY_PLAN'] > 13:\n",
    "        df.loc[index, 'WEEKLY_PLAN_6months'] = 1\n",
    "        \n",
    "    elif df.loc[index, 'WEEKLY_PLAN'] <= 39 and df.loc[index, 'WEEKLY_PLAN'] > 26:\n",
    "        df.loc[index, 'WEEKLY_PLAN_9months'] = 1\n",
    "        \n",
    "    elif df.loc[index, 'WEEKLY_PLAN'] <= 52 and df.loc[index, 'WEEKLY_PLAN'] > 39:\n",
    "        df.loc[index, 'WEEKLY_PLAN_12months'] = 1\n"
   ]
  },
  {
   "cell_type": "code",
   "execution_count": 24,
   "metadata": {},
   "outputs": [
    {
     "data": {
      "image/png": "[encoded data removed]",
      "text/plain": [
       "<Figure size 720x576 with 2 Axes>"
      ]
     },
     "metadata": {
      "needs_background": "light"
     },
     "output_type": "display_data"
    }
   ],
   "source": [
    "# Checking correlations for newly created variables\n",
    "fig, ax = plt.subplots(figsize = (10,8))\n",
    "# making list of relevant values\n",
    "new_var = [\"CROSS_SELL_SUCCESS\",\"EXPLORATION\",\"AVG_SITE_TIME\",\n",
    "           \"log_AVG_SITE_TIME\",\"CANCELLATION_PERCENTAGE\",\"log_CANCELLATION_PERCENTAGE\",\n",
    "           \"log_COMPLAIN_RATIO\",\"TOTAL_CANCELLATION\",\"SHARES_UNIQUE\",\"log_SHARES_UNIQUE\",\n",
    "           \"TOTAL_LOGIN\",\"AVG_EXPLORATION\",\"CANCELLING_CUSTOMER\",\"COMPLAIN_RATIO\"]\n",
    "# inserting list into correlation matrix\n",
    "new_var_corr = df[new_var].corr(method = \"pearson\")\n",
    "# visualising with heatmap\n",
    "sns.heatmap(new_var_corr.loc[[\"EXPLORATION\",\"AVG_SITE_TIME\",\n",
    "                              \"log_AVG_SITE_TIME\",\"CANCELLATION_PERCENTAGE\",\"log_COMPLAIN_RATIO\",\n",
    "                              \"TOTAL_CANCELLATION\",\"SHARES_UNIQUE\",\"log_SHARES_UNIQUE\",\"log_CANCELLATION_PERCENTAGE\",\n",
    "                              \"TOTAL_LOGIN\" ,\"AVG_EXPLORATION\",\"CANCELLING_CUSTOMER\",\"COMPLAIN_RATIO\"],\n",
    "                             [\"CROSS_SELL_SUCCESS\"]].sort_values(by = \"CROSS_SELL_SUCCESS\", ascending = False),\n",
    "            cmap = \"coolwarm\",\n",
    "            annot = True,\n",
    "            linecolor = \"black\",\n",
    "            linewidth = 0.5)\n",
    "plt.title(\"\"\"\n",
    "CORRELATIONS BETWEEN CROSS SELL SUCCESS AND NEW VARIABLES\n",
    "\n",
    "\"\"\")\n",
    "plt.tight_layout()\n",
    "plt.show()"
   ]
  },
  {
   "cell_type": "markdown",
   "metadata": {},
   "source": [
    "# MODELS"
   ]
  },
  {
   "cell_type": "code",
   "execution_count": 34,
   "metadata": {},
   "outputs": [],
   "source": [
    "# Defining the target value\n",
    "target   = df.loc[:,\"CROSS_SELL_SUCCESS\"]\n",
    "\n",
    "\n",
    "# Dropping values not to be used among\n",
    "features = df.drop([\"CROSS_SELL_SUCCESS\",\"NAME\",\"EMAIL\",\"FIRST_NAME\",\n",
    "                    \"FAMILY_NAME\",\"log_REVENUE\",\"log_TOTAL_MEALS_ORDERED\",\n",
    "                    \"log_AVG_TIME_PER_SITE_VISIT\",\"log_AVG_PREP_VID_TIME\",\n",
    "                    \"log_TOTAL_PHOTOS_VIEWED\",\"personal_email_domain\",\"domain_group\",\n",
    "                    \"log_SHARES_UNIQUE\",\"log_AVG_SITE_TIME\",\n",
    "                    \"log_CANCELLATION_PERCENTAGE\",\"log_COMPLAIN_RATIO\"], axis = 1)"
   ]
  },
  {
   "cell_type": "markdown",
   "metadata": {},
   "source": [
    "### FEATURE SELECTION"
   ]
  },
  {
   "cell_type": "code",
   "execution_count": 59,
   "metadata": {},
   "outputs": [],
   "source": [
    "# Features of significance from logistic regression\n",
    "\n",
    "class_features = {\n",
    "    \"sig_1\"  :[\"CONTACTS_W_CUSTOMER_SERVICE\",\n",
    "               \"ATTENDS_MASTER_CLASS\",\"DUMMIE_PERSONAL\",\"DUMMIE_PROFESSIONAL\",\n",
    "               \"COMPLAIN_RATIO\",\"CANCELLATION_PERCENTAGE\",\"CANCELLING_CUSTOMER\",\"AVG_SPENDING\",\"NAME_LENGTH\",\"SMALL_SPENDER\",\"BIG_SPENDER\"],\n",
    "    \"sig_2\"  :[\"CONTACTS_W_CUSTOMER_SERVICE\",\"MOBILE_NUMBER\",\"TASTES_AND_PREFERENCES\",\n",
    "               \"DUMMIE_PERSONAL\",\"DUMMIE_PROFESSIONAL\",\"COMPLAIN_RATIO\",\n",
    "               \"CANCELLATION_PERCENTAGE\",\"CANCELLING_CUSTOMER\",\"AVG_SPENDING\",\"NAME_LENGTH\",\"SMALL_SPENDER\",\"BIG_SPENDER\"],\n",
    "    \"sig_3\"  :[\"REVENUE\",\"CONTACTS_W_CUSTOMER_SERVICE\",\"MOBILE_NUMBER\",\n",
    "               \"TASTES_AND_PREFERENCES\",\"REFRIGERATED_LOCKER\",\"DUMMIE_PERSONAL\",\n",
    "               \"DUMMIE_PROFESSIONAL\",\"SHARES_UNIQUE\",\"AVG_SITE_TIME\",\n",
    "               \"COMPLAIN_RATIO\",\"CANCELLATION_PERCENTAGE\",\n",
    "               \"CANCELLING_CUSTOMER\",\"ATTENDS_MASTER_CLASS\",\n",
    "               \"AVG_SPENDING\",\"NAME_LENGTH\",\"SMALL_SPENDER\",\"BIG_SPENDER\"]\n",
    "}\n",
    "\n",
    "\n",
    "# Features of significance from random forest\n",
    "\n",
    "top_rf_dict = {\n",
    "    \"top_7\"  : ['AVG_TIME_PER_SITE_VISIT','REVENUE','AVG_PREP_VID_TIME',\n",
    "                'AVG_SPENDING','SHARES_UNIQUE','AVG_SITE_TIME',\n",
    "                'NAME_LENGTH','AVG_EXPLORATION'],\n",
    "    \"top_10\" : ['AVG_TIME_PER_SITE_VISIT','REVENUE','AVG_PREP_VID_TIME',\n",
    "                'AVG_SPENDING','SHARES_UNIQUE','AVG_SITE_TIME','NAME_LENGTH',\n",
    "                'AVG_EXPLORATION','COMPLAIN_RATIO','TOTAL_MEALS_ORDERED',\n",
    "                'CANCELLATION_PERCENTAGE'],\n",
    "    \"top_15\" : ['AVG_TIME_PER_SITE_VISIT','REVENUE','AVG_PREP_VID_TIME',\n",
    "                'AVG_SPENDING','SHARES_UNIQUE','AVG_SITE_TIME','NAME_LENGTH',\n",
    "                'AVG_EXPLORATION','COMPLAIN_RATIO','TOTAL_MEALS_ORDERED',\n",
    "                'CANCELLATION_PERCENTAGE','WEEKLY_PLAN','EXPLORATION',\n",
    "                'CONTACTS_W_CUSTOMER_SERVICE','LATE_DELIVERIES','DUMMIE_PROFESSIONAL'],\n",
    "    \"top_25\" : ['AVG_TIME_PER_SITE_VISIT','REVENUE','AVG_PREP_VID_TIME',\n",
    "                'AVG_SPENDING','SHARES_UNIQUE','AVG_SITE_TIME','NAME_LENGTH',\n",
    "                'AVG_EXPLORATION','TOTAL_MEALS_ORDERED',\n",
    "                'CANCELLATION_PERCENTAGE','WEEKLY_PLAN','EXPLORATION',\n",
    "                'CONTACTS_W_CUSTOMER_SERVICE','LATE_DELIVERIES',\n",
    "                'DUMMIE_PROFESSIONAL','AVG_CLICKS_PER_VISIT','UNIQUE_MEALS_PURCH',\n",
    "                'CANCELLATIONS_BEFORE_NOON','PRODUCT_CATEGORIES_VIEWED',\n",
    "                'TOTAL_PHOTOS_VIEWED','DUMMIE_PERSONAL','AVG_ORDER_SIZE',\n",
    "                'TOTAL_CANCELLATION','EARLY_DELIVERIES','TOTAL_LOGIN']}\n",
    "\n"
   ]
  },
  {
   "cell_type": "markdown",
   "metadata": {},
   "source": [
    "## LOGISTIC REGRESSION MODEL"
   ]
  },
  {
   "cell_type": "markdown",
   "metadata": {},
   "source": [
    "### DEFAULT MODEL"
   ]
  },
  {
   "cell_type": "code",
   "execution_count": 36,
   "metadata": {
    "code_folding": []
   },
   "outputs": [
    {
     "name": "stdout",
     "output_type": "stream",
     "text": [
      "\n",
      "Training ACCURACY: 0.7265\n",
      "Testing  ACCURACY: 0.7248\n",
      "AUC-Score        : 0.6332\n",
      "\n",
      "\n"
     ]
    }
   ],
   "source": [
    "# Splitting data for logistic regression\n",
    "log_x_train, log_x_test, log_y_train, log_y_test = train_test_split(\n",
    "            features.loc[:,class_features[\"sig_2\"]],\n",
    "            target,\n",
    "            test_size    = 0.25,\n",
    "            random_state = 219,\n",
    "            stratify     = target)\n",
    "\n",
    "\n",
    "# Initiating a logistic regression model\n",
    "logreg = LogisticRegression(warm_start = False,\n",
    "                            solver =  'lbfgs',\n",
    "                            C = 4.2,\n",
    "                            max_iter = 10000,\n",
    "                            random_state = 219)\n",
    "\n",
    "\n",
    "# Fitting model with training data\n",
    "logreg_fit = logreg.fit(log_x_train, log_y_train)\n",
    "\n",
    "# Predicting based on x_test\n",
    "logreg_pred = logreg_fit.predict(log_x_test)\n",
    "\n",
    "# saving scoring data \n",
    "logreg_train_score = logreg_fit.score(log_x_train, log_y_train).round(4) \n",
    "logreg_test_score  = logreg_fit.score(log_x_test, log_y_test).round(4) \n",
    "logreg_auc_score   = roc_auc_score(y_true  = log_y_test,\n",
    "                                   y_score = logreg_pred).round(decimals = 4)\n",
    "# printing the results as dynamic string\n",
    "print(f\"\"\"\n",
    "Training ACCURACY: {logreg_train_score}\n",
    "Testing  ACCURACY: {logreg_test_score}\n",
    "AUC-Score        : {logreg_auc_score}\n",
    "\n",
    "\"\"\")"
   ]
  },
  {
   "cell_type": "markdown",
   "metadata": {},
   "source": [
    "#### CONFUSION MATRIX"
   ]
  },
  {
   "cell_type": "code",
   "execution_count": 37,
   "metadata": {},
   "outputs": [
    {
     "name": "stdout",
     "output_type": "stream",
     "text": [
      "\n",
      "True Negatives : 59\n",
      "False Positives: 97\n",
      "False Negatives: 37\n",
      "True Positives : 294\n",
      "\n"
     ]
    }
   ],
   "source": [
    "# creating the confusion matrix\n",
    "default_logreg_tn, \\\n",
    "default_logreg_fp, \\\n",
    "default_logreg_fn, \\\n",
    "default_logreg_tp = confusion_matrix(y_true = log_y_test, y_pred = logreg_pred).ravel()\n",
    "\n",
    "# printing the results as dynamic string\n",
    "print(f\"\"\"\n",
    "True Negatives : {default_logreg_tn}\n",
    "False Positives: {default_logreg_fp}\n",
    "False Negatives: {default_logreg_fn}\n",
    "True Positives : {default_logreg_tp}\n",
    "\"\"\")"
   ]
  },
  {
   "cell_type": "markdown",
   "metadata": {},
   "source": [
    "### TUNING"
   ]
  },
  {
   "cell_type": "code",
   "execution_count": 38,
   "metadata": {},
   "outputs": [
    {
     "name": "stderr",
     "output_type": "stream",
     "text": [
      "C:\\Users\\ukavl\\anaconda3\\lib\\site-packages\\sklearn\\model_selection\\_search.py:278: UserWarning: The total space of parameters 1 is smaller than n_iter=250. Running 1 iterations. For exhaustive searches, use GridSearchCV.\n",
      "  warnings.warn(\n",
      "C:\\Users\\ukavl\\anaconda3\\lib\\site-packages\\sklearn\\linear_model\\_logistic.py:1320: UserWarning: Setting penalty='none' will ignore the C and l1_ratio parameters\n",
      "  warnings.warn(\n",
      "C:\\Users\\ukavl\\anaconda3\\lib\\site-packages\\sklearn\\linear_model\\_logistic.py:1320: UserWarning: Setting penalty='none' will ignore the C and l1_ratio parameters\n",
      "  warnings.warn(\n",
      "C:\\Users\\ukavl\\anaconda3\\lib\\site-packages\\sklearn\\linear_model\\_logistic.py:1320: UserWarning: Setting penalty='none' will ignore the C and l1_ratio parameters\n",
      "  warnings.warn(\n",
      "C:\\Users\\ukavl\\anaconda3\\lib\\site-packages\\sklearn\\linear_model\\_logistic.py:1320: UserWarning: Setting penalty='none' will ignore the C and l1_ratio parameters\n",
      "  warnings.warn(\n"
     ]
    },
    {
     "name": "stdout",
     "output_type": "stream",
     "text": [
      "Tuned Parameters  : {'warm_start': False, 'solver': 'lbfgs', 'penalty': 'none', 'C': 0.2}\n",
      "Tuned CV AUC      : 0.6456\n"
     ]
    }
   ],
   "source": [
    "# setting parameter interval\n",
    "C_space          = [0.2]\n",
    "warm_start_space = [False]\n",
    "solver_space     = [\"lbfgs\"]\n",
    "penalty_space    = [\"none\"]\n",
    "\n",
    "# making a grid of intervals\n",
    "param_grid = {'C'          : C_space,\n",
    "              'warm_start' : warm_start_space,\n",
    "              'solver'     : solver_space,\n",
    "              \"penalty\"    : penalty_space\n",
    "             }\n",
    "\n",
    "# initiating a logreg without any parameter\n",
    "lr_tuned = LogisticRegression(random_state = 219,\n",
    "                              max_iter     = 1000)\n",
    "\n",
    "# cross validating with parameter\n",
    "lr_tuned_cv = RandomizedSearchCV(estimator           = lr_tuned, \n",
    "                                 param_distributions = param_grid,\n",
    "                                 cv                  = 3, \n",
    "                                 n_iter              = 250,\n",
    "                                 random_state        = 219, \n",
    "                                 scoring = make_scorer(\n",
    "                                           roc_auc_score,\n",
    "                                           needs_threshold = False))\n",
    "\n",
    "# using entire dataset because of CV\n",
    "lr_tuned_cv.fit(features.loc[:,class_features[\"sig_2\"]], target)\n",
    "\n",
    "\n",
    "# printing best combination and AUC\n",
    "print(\"Tuned Parameters  :\", lr_tuned_cv.best_params_)\n",
    "print(\"Tuned CV AUC      :\", lr_tuned_cv.best_score_.round(4))"
   ]
  },
  {
   "cell_type": "markdown",
   "metadata": {},
   "source": [
    "### TUNED MODEL"
   ]
  },
  {
   "cell_type": "code",
   "execution_count": 39,
   "metadata": {},
   "outputs": [
    {
     "name": "stdout",
     "output_type": "stream",
     "text": [
      "\n",
      "Training ACCURACY: 0.7279\n",
      "Testing  ACCURACY: 0.7392\n",
      "AUC-Score        : 0.6506\n",
      "\n",
      "\n"
     ]
    }
   ],
   "source": [
    "# initiating model with result from tuning\n",
    "tuned_log = lr_tuned_cv.best_estimator_\n",
    "\n",
    "\n",
    "# predicting on x_test, no prior fitting needed\n",
    "tuned_log_pred = tuned_log.predict(log_x_test)\n",
    "\n",
    "# creating score variables\n",
    "tuned_log_train_score = tuned_log.score(log_x_train, log_y_train).round(4) # accuracy\n",
    "tuned_log_test_score  = tuned_log.score(log_x_test, log_y_test).round(4)   # accuracy\n",
    "tuned_log_auc_score   = roc_auc_score(y_true  = log_y_test,\n",
    "                                      y_score = tuned_log_pred).round(4) # auc\n",
    "\n",
    "# printing the results as dynamic string\n",
    "print(f\"\"\"\n",
    "Training ACCURACY: {tuned_log_train_score}\n",
    "Testing  ACCURACY: {tuned_log_test_score}\n",
    "AUC-Score        : {tuned_log_auc_score}\n",
    "\n",
    "\"\"\")\n",
    "\n"
   ]
  },
  {
   "cell_type": "markdown",
   "metadata": {},
   "source": [
    "#### CONFUSION MATRIX"
   ]
  },
  {
   "cell_type": "code",
   "execution_count": 40,
   "metadata": {},
   "outputs": [
    {
     "name": "stdout",
     "output_type": "stream",
     "text": [
      "\n",
      "True Negatives : 63\n",
      "False Positives: 93\n",
      "False Negatives: 34\n",
      "True Positives : 297\n",
      "\n"
     ]
    }
   ],
   "source": [
    "# creating a confusion matrix\n",
    "tuned_logreg_tn, \\\n",
    "tuned_logreg_fp, \\\n",
    "tuned_logreg_fn, \\\n",
    "tuned_logreg_tp = confusion_matrix(y_true = log_y_test, y_pred = tuned_log_pred).ravel()\n",
    "\n",
    "# printing the results as dynamic string\n",
    "print(f\"\"\"\n",
    "True Negatives : {tuned_logreg_tn}\n",
    "False Positives: {tuned_logreg_fp}\n",
    "False Negatives: {tuned_logreg_fn}\n",
    "True Positives : {tuned_logreg_tp}\n",
    "\"\"\")\n"
   ]
  },
  {
   "cell_type": "markdown",
   "metadata": {},
   "source": [
    "## CLASSIFICATION AND REGRESSION TREE MODEL"
   ]
  },
  {
   "cell_type": "markdown",
   "metadata": {},
   "source": [
    "### DEFAULT MODEL"
   ]
  },
  {
   "cell_type": "code",
   "execution_count": 41,
   "metadata": {},
   "outputs": [
    {
     "name": "stdout",
     "output_type": "stream",
     "text": [
      "\n",
      "Training ACCURACY: 1.0\n",
      "Testing  ACCURACY: 0.616\n",
      "AUC-Score        : 0.5684\n",
      "\n",
      "\n"
     ]
    }
   ],
   "source": [
    "# Splitting the data for a decision tree\n",
    "cart_x_train, cart_x_test, cart_y_train, cart_y_test = train_test_split(\n",
    "            features.loc[:,top_rf_dict[\"top_25\"]],\n",
    "            target,\n",
    "            test_size    = 0.25,\n",
    "            random_state = 219,\n",
    "            stratify     = target)\n",
    "\n",
    "# initiating a decissiontreeclassifier with default hyperparameters\n",
    "default_tree = DecisionTreeClassifier()\n",
    "\n",
    "# Fitting with the training data\n",
    "default_tree_fit = default_tree.fit(cart_x_train, cart_y_train)\n",
    "\n",
    "\n",
    "# predicting on x_test\n",
    "default_tree_pred = default_tree_fit.predict(cart_x_test)\n",
    "\n",
    "# saving scores as variables\n",
    "default_tree_train_score = default_tree_fit.score(cart_x_train, cart_y_train).round(4) # accuracy\n",
    "default_tree_test_score  = default_tree_fit.score(cart_x_test, cart_y_test).round(4)   # accuracy\n",
    "default_tree_auc_score   = roc_auc_score(y_true  = cart_y_test,\n",
    "                                      y_score = default_tree_pred).round(4) # auc\n",
    "\n",
    "# printing the results as dynamic string\n",
    "print(f\"\"\"\n",
    "Training ACCURACY: {default_tree_train_score}\n",
    "Testing  ACCURACY: {default_tree_test_score}\n",
    "AUC-Score        : {default_tree_auc_score}\n",
    "\n",
    "\"\"\")\n"
   ]
  },
  {
   "cell_type": "markdown",
   "metadata": {},
   "source": [
    "#### CONFUSION MATRIX"
   ]
  },
  {
   "cell_type": "code",
   "execution_count": 42,
   "metadata": {},
   "outputs": [
    {
     "name": "stdout",
     "output_type": "stream",
     "text": [
      "\n",
      "True Negatives : 68\n",
      "False Positives: 88\n",
      "False Negatives: 99\n",
      "True Positives : 232\n",
      "\n"
     ]
    }
   ],
   "source": [
    "# creating the confusion matrix\n",
    "default_rf_tn, \\\n",
    "default_rf_fp, \\\n",
    "default_rf_fn, \\\n",
    "default_rf_tp = confusion_matrix(y_true = cart_y_test, y_pred = default_tree_pred).ravel()\n",
    "\n",
    "# printing the results as dynamic string\n",
    "print(f\"\"\"\n",
    "True Negatives : {default_rf_tn}\n",
    "False Positives: {default_rf_fp}\n",
    "False Negatives: {default_rf_fn}\n",
    "True Positives : {default_rf_tp}\n",
    "\"\"\")\n",
    "\n"
   ]
  },
  {
   "cell_type": "markdown",
   "metadata": {},
   "source": [
    "### TUNING"
   ]
  },
  {
   "cell_type": "code",
   "execution_count": 43,
   "metadata": {},
   "outputs": [
    {
     "name": "stdout",
     "output_type": "stream",
     "text": [
      "Tuned Parameters  : {'splitter': 'random', 'min_samples_leaf': 10, 'max_depth': 7, 'criterion': 'entropy'}\n",
      "Tuned Training AUC: 0.6812\n"
     ]
    },
    {
     "name": "stderr",
     "output_type": "stream",
     "text": [
      "C:\\Users\\ukavl\\anaconda3\\lib\\site-packages\\sklearn\\model_selection\\_search.py:278: UserWarning: The total space of parameters 1 is smaller than n_iter=10000. Running 1 iterations. For exhaustive searches, use GridSearchCV.\n",
      "  warnings.warn(\n"
     ]
    }
   ],
   "source": [
    "# declaring range of hyperparameters\n",
    "criterion_space = [\"entropy\"]\n",
    "splitter_space  = [\"random\"]\n",
    "depth_space     = [7]\n",
    "leaf_space      = [10]\n",
    "\n",
    "\n",
    "\n",
    "# creating a hyperparameter grid\n",
    "param_grid = {\"criterion\"        : criterion_space,\n",
    "              \"splitter\"         : splitter_space,\n",
    "              \"max_depth\"        : depth_space,\n",
    "              \"min_samples_leaf\" : leaf_space}\n",
    "\n",
    "\n",
    "# Initiating the model object without hyperparameters\n",
    "tuned_tree = DecisionTreeClassifier(random_state = 219)\n",
    "\n",
    "\n",
    "# RandomizedSearchCV \n",
    "tuned_tree_cv = RandomizedSearchCV(estimator             = tuned_tree,\n",
    "                                   param_distributions   = param_grid,\n",
    "                                   cv                    = 3,\n",
    "                                   n_iter                = 10000,\n",
    "                                   random_state          = 219,\n",
    "                                   scoring = make_scorer(roc_auc_score,\n",
    "                                             needs_threshold = False))\n",
    "\n",
    "\n",
    "# fitting to full dataset\n",
    "tuned_tree_cv.fit(features.loc[:,top_rf_dict[\"top_25\"]], target)\n",
    "\n",
    "\n",
    "# printing the optimal parameters and best score\n",
    "print(\"Tuned Parameters  :\", tuned_tree_cv.best_params_)\n",
    "print(\"Tuned Training AUC:\", tuned_tree_cv.best_score_.round(4))"
   ]
  },
  {
   "cell_type": "markdown",
   "metadata": {},
   "source": [
    "### TUNED MODEL"
   ]
  },
  {
   "cell_type": "code",
   "execution_count": 44,
   "metadata": {},
   "outputs": [
    {
     "name": "stdout",
     "output_type": "stream",
     "text": [
      "\n",
      "Training ACCURACY: 0.7594\n",
      "Testing  ACCURACY: 0.8049\n",
      "AUC-Score        : 0.7463\n",
      "\n",
      "\n"
     ]
    }
   ],
   "source": [
    "# initiating a decisiontreeclassifier based on best hyperparameters\n",
    "tuned_tree = tuned_tree_cv.best_estimator_\n",
    "\n",
    "\n",
    "\n",
    "# Predicting on the x_test\n",
    "tuned_tree_pred = tuned_tree.predict(cart_x_test)\n",
    "\n",
    "\n",
    "\n",
    "# creating variables for the scorers\n",
    "tuned_tree_train_score = tuned_tree.score(cart_x_train, cart_y_train).round(4) # accuracy\n",
    "tuned_tree_test_score  = tuned_tree.score(cart_x_test, cart_y_test).round(4)   # accuracy\n",
    "tuned_tree_auc_score   = roc_auc_score(y_true  = cart_y_test,\n",
    "                                      y_score = tuned_tree_pred).round(4) # auc\n",
    "\n",
    "# printing the results as dynamic string\n",
    "print(f\"\"\"\n",
    "Training ACCURACY: {tuned_tree_train_score}\n",
    "Testing  ACCURACY: {tuned_tree_test_score}\n",
    "AUC-Score        : {tuned_tree_auc_score}\n",
    "\n",
    "\"\"\")\n"
   ]
  },
  {
   "cell_type": "markdown",
   "metadata": {},
   "source": [
    "#### CONFUSION MATRIX"
   ]
  },
  {
   "cell_type": "code",
   "execution_count": 45,
   "metadata": {},
   "outputs": [
    {
     "name": "stdout",
     "output_type": "stream",
     "text": [
      "\n",
      "True Negatives : 91\n",
      "False Positives: 65\n",
      "False Negatives: 30\n",
      "True Positives : 301\n",
      "\n"
     ]
    }
   ],
   "source": [
    "# creating the confusion matrix\n",
    "tuned_rf_tn, \\\n",
    "tuned_rf_fp, \\\n",
    "tuned_rf_fn, \\\n",
    "tuned_rf_tp = confusion_matrix(y_true = cart_y_test, y_pred = tuned_tree_pred).ravel()\n",
    "\n",
    "# printing the results as dynamic string\n",
    "print(f\"\"\"\n",
    "True Negatives : {tuned_rf_tn}\n",
    "False Positives: {tuned_rf_fp}\n",
    "False Negatives: {tuned_rf_fn}\n",
    "True Positives : {tuned_rf_tp}\n",
    "\"\"\")\n"
   ]
  },
  {
   "cell_type": "markdown",
   "metadata": {},
   "source": [
    "## K NEAREST NEIGHBOR CLASSIFIER MODEL"
   ]
  },
  {
   "cell_type": "markdown",
   "metadata": {},
   "source": [
    "### MODEL"
   ]
  },
  {
   "cell_type": "code",
   "execution_count": 46,
   "metadata": {},
   "outputs": [
    {
     "name": "stdout",
     "output_type": "stream",
     "text": [
      "\n",
      "Training ACCURACY: 0.721\n",
      "Testing  ACCURACY: 0.6735\n",
      "AUC-Score        : 0.5344\n",
      "\n",
      "\n"
     ]
    }
   ],
   "source": [
    "# Initiating StandardScaler()\n",
    "scaler = StandardScaler()\n",
    "\n",
    "\n",
    "# fitting the data\n",
    "scaler.fit(features)\n",
    "\n",
    "\n",
    "# transforming the data\n",
    "X_scaled     = scaler.transform(features)\n",
    "X_scaled_df  = pd.DataFrame(X_scaled) \n",
    "\n",
    "\n",
    "# train-test split with the scaled data\n",
    "x_train_scaled, x_test_scaled, y_train, y_test = train_test_split(\n",
    "            X_scaled_df,\n",
    "            target,\n",
    "            random_state = 219,\n",
    "            test_size = 0.25,\n",
    "            stratify = target)\n",
    "\n",
    "\n",
    "# Initiating KNNClassifier\n",
    "knn_opt = KNeighborsClassifier(n_neighbors = 14)\n",
    "\n",
    "\n",
    "# fitting model to the training data\n",
    "knn_fit = knn_opt.fit(x_train_scaled, y_train)\n",
    "\n",
    "\n",
    "# predicting on x_test\n",
    "knn_pred = knn_fit.predict(x_test_scaled)\n",
    "\n",
    "\n",
    "# Saving the results as variables\n",
    "knn_train_score = knn_fit.score(x_train_scaled, y_train).round(4)\n",
    "knn_test_score  = knn_fit.score(x_test_scaled, y_test).round(4)\n",
    "knn_auc_score   = roc_auc_score(y_true  = y_test,\n",
    "                                          y_score = knn_pred).round(4)\n",
    "\n",
    "# printing the results as dynamic string\n",
    "print(f\"\"\"\n",
    "Training ACCURACY: {knn_train_score}\n",
    "Testing  ACCURACY: {knn_test_score}\n",
    "AUC-Score        : {knn_auc_score}\n",
    "\n",
    "\"\"\")\n",
    "\n"
   ]
  },
  {
   "cell_type": "markdown",
   "metadata": {},
   "source": [
    "#### CONFUSION MATRIX"
   ]
  },
  {
   "cell_type": "code",
   "execution_count": 47,
   "metadata": {},
   "outputs": [
    {
     "name": "stdout",
     "output_type": "stream",
     "text": [
      "\n",
      "True Negatives : 23\n",
      "False Positives: 133\n",
      "False Negatives: 26\n",
      "True Positives : 305\n",
      "\n"
     ]
    }
   ],
   "source": [
    "# creating the confusion matrix\n",
    "knn_tn, \\\n",
    "knn_fp, \\\n",
    "knn_fn, \\\n",
    "knn_tp = confusion_matrix(y_true = y_test, y_pred = knn_pred).ravel()\n",
    "\n",
    "# printing the results as dynamic string\n",
    "print(f\"\"\"\n",
    "True Negatives : {knn_tn}\n",
    "False Positives: {knn_fp}\n",
    "False Negatives: {knn_fn}\n",
    "True Positives : {knn_tp}\n",
    "\"\"\")\n"
   ]
  },
  {
   "cell_type": "markdown",
   "metadata": {},
   "source": [
    "## RANDOM FOREST MODEL"
   ]
  },
  {
   "cell_type": "markdown",
   "metadata": {},
   "source": [
    "### DEFAULT MODEL"
   ]
  },
  {
   "cell_type": "code",
   "execution_count": 48,
   "metadata": {},
   "outputs": [
    {
     "name": "stdout",
     "output_type": "stream",
     "text": [
      "\n",
      "Training ACCURACY: 0.6792\n",
      "Testing  ACCURACY: 0.6797\n",
      "AUC-Score        : 0.5\n",
      "\n",
      "\n"
     ]
    }
   ],
   "source": [
    "# splitting the data that is to be used in random forest\n",
    "rf_x_train, rf_x_test, rf_y_train, rf_y_test = train_test_split(\n",
    "                                                features.loc[:,top_rf_dict[\"top_25\"]],\n",
    "                                                target,\n",
    "                                                test_size    = 0.25,\n",
    "                                                random_state = 219,\n",
    "                                                stratify     = target)\n",
    "\n",
    "# Initiating a random forest model with default values\n",
    "rf_default = RandomForestClassifier(n_estimators     = 100,\n",
    "                                    criterion        = 'gini',\n",
    "                                    max_depth        = None,\n",
    "                                    min_samples_leaf = 100,\n",
    "                                    bootstrap        = True,\n",
    "                                    warm_start       = False,\n",
    "                                    random_state     = 219)\n",
    "\n",
    "\n",
    "# fitting model to the training data\n",
    "rf_default_fit = rf_default.fit(rf_x_train, rf_y_train)\n",
    "\n",
    "\n",
    "# Predicting on the x_test\n",
    "rf_default_fit_pred = rf_default_fit.predict(rf_x_test)\n",
    "\n",
    "# creating variables of results\n",
    "rf_default_train = rf_default_fit.score(rf_x_train, rf_y_train).round(4)\n",
    "rf_default_test  = rf_default_fit.score(rf_x_test, rf_y_test).round(4)\n",
    "rf_default_AUC   = roc_auc_score(y_true  = rf_y_test,\n",
    "                                          y_score = rf_default_fit_pred).round(4)\n",
    "\n",
    "# printing the results as dynamic string\n",
    "print(f\"\"\"\n",
    "Training ACCURACY: {rf_default_train}\n",
    "Testing  ACCURACY: {rf_default_test}\n",
    "AUC-Score        : {rf_default_AUC}\n",
    "\n",
    "\"\"\")\n",
    "\n",
    "\n"
   ]
  },
  {
   "cell_type": "markdown",
   "metadata": {},
   "source": [
    "#### CONFUSION MATRIX"
   ]
  },
  {
   "cell_type": "code",
   "execution_count": 49,
   "metadata": {},
   "outputs": [
    {
     "name": "stdout",
     "output_type": "stream",
     "text": [
      "\n",
      "True Negatives : 0\n",
      "False Positives: 156\n",
      "False Negatives: 0\n",
      "True Positives : 331\n",
      "\n"
     ]
    }
   ],
   "source": [
    "# creating the confusion matrix\n",
    "rf_default_tn, \\\n",
    "rf_default_fp, \\\n",
    "rf_default_fn, \\\n",
    "rf_default_tp = confusion_matrix(y_true = rf_y_test, y_pred = rf_default_fit_pred).ravel()\n",
    "\n",
    "# printing the results as dynamic string\n",
    "print(f\"\"\"\n",
    "True Negatives : {rf_default_tn}\n",
    "False Positives: {rf_default_fp}\n",
    "False Negatives: {rf_default_fn}\n",
    "True Positives : {rf_default_tp}\n",
    "\"\"\")\n",
    "\n"
   ]
  },
  {
   "cell_type": "markdown",
   "metadata": {},
   "source": [
    "### TUNING"
   ]
  },
  {
   "cell_type": "code",
   "execution_count": 50,
   "metadata": {},
   "outputs": [
    {
     "name": "stderr",
     "output_type": "stream",
     "text": [
      "C:\\Users\\ukavl\\anaconda3\\lib\\site-packages\\sklearn\\model_selection\\_search.py:278: UserWarning: The total space of parameters 1 is smaller than n_iter=1000. Running 1 iterations. For exhaustive searches, use GridSearchCV.\n",
      "  warnings.warn(\n"
     ]
    },
    {
     "name": "stdout",
     "output_type": "stream",
     "text": [
      "Tuned Parameters  : {'warm_start': False, 'n_estimators': 1000, 'min_samples_leaf': 1, 'max_depth': 8, 'criterion': 'gini', 'bootstrap': True}\n",
      "Tuned Training AUC: 0.5861\n"
     ]
    }
   ],
   "source": [
    "# declaring a hyperparameter interval\n",
    "estimator_space  = [1000]\n",
    "leaf_space       = [1]\n",
    "criterion_space  = [\"gini\"]\n",
    "bootstrap_space  = [True]\n",
    "warm_start_space = [False]\n",
    "depth_space      = [8]\n",
    "\n",
    "# creating a hyperparameter grid\n",
    "param_grid = {'n_estimators'     : estimator_space,\n",
    "              'min_samples_leaf' : leaf_space,\n",
    "              'criterion'        : criterion_space,\n",
    "              'bootstrap'        : bootstrap_space,\n",
    "              'max_depth'        : depth_space,\n",
    "              'warm_start'       : warm_start_space}\n",
    "\n",
    "\n",
    "# initiating model object without hyperparameters\n",
    "forest_grid = RandomForestClassifier(random_state = 219)\n",
    "\n",
    "\n",
    "# randomsearchCV\n",
    "forest_cv = RandomizedSearchCV(estimator           = forest_grid,\n",
    "                               param_distributions = param_grid,\n",
    "                               cv         = 3,\n",
    "                               n_iter     = 1000,\n",
    "                               scoring    = make_scorer(roc_auc_score,\n",
    "                                            needs_threshold = False))\n",
    "\n",
    "\n",
    "# fitting to the full dataset, due to cv\n",
    "forest_cv.fit(features.loc[:,top_rf_dict[\"top_25\"]], target)\n",
    "\n",
    "\n",
    "# printing the optimal parameters and best score\n",
    "print(\"Tuned Parameters  :\", forest_cv.best_params_)\n",
    "print(\"Tuned Training AUC:\", forest_cv.best_score_.round(4))\n"
   ]
  },
  {
   "cell_type": "markdown",
   "metadata": {},
   "source": [
    "### TUNED MODEL"
   ]
  },
  {
   "cell_type": "code",
   "execution_count": 51,
   "metadata": {},
   "outputs": [
    {
     "name": "stdout",
     "output_type": "stream",
     "text": [
      "\n",
      "Training ACCURACY: 0.8533\n",
      "Testing  ACCURACY: 0.8604\n",
      "AUC-Score        : 0.7905\n",
      "\n",
      "\n"
     ]
    }
   ],
   "source": [
    "# Initiating random forest with best parameters from tuning\n",
    "forest_tuned = forest_cv.best_estimator_\n",
    "\n",
    "# Predicing the model\n",
    "forest_tuned_pred = forest_tuned.predict(rf_x_test)\n",
    "\n",
    "# Saving result as variables\n",
    "forest_tuned_train_score = forest_tuned.score(rf_x_train, rf_y_train).round(4) # accuracy\n",
    "forest_tuned_test_score  = forest_tuned.score(rf_x_test, rf_y_test).round(4)   # accuracy\n",
    "forest_tuned_auc = roc_auc_score(y_true  = rf_y_test,\n",
    "                                 y_score = forest_tuned_pred).round(4) # auc\n",
    "\n",
    "# printing the results as dynamic string\n",
    "print(f\"\"\"\n",
    "Training ACCURACY: {forest_tuned_train_score}\n",
    "Testing  ACCURACY: {forest_tuned_test_score}\n",
    "AUC-Score        : {forest_tuned_auc}\n",
    "\n",
    "\"\"\")\n"
   ]
  },
  {
   "cell_type": "markdown",
   "metadata": {},
   "source": [
    "#### CONFUSION MATRIX"
   ]
  },
  {
   "cell_type": "code",
   "execution_count": 52,
   "metadata": {},
   "outputs": [
    {
     "name": "stdout",
     "output_type": "stream",
     "text": [
      "\n",
      "True Negatives : 93\n",
      "False Positives: 63\n",
      "False Negatives: 5\n",
      "True Positives : 326\n",
      "\n"
     ]
    }
   ],
   "source": [
    "# creating the confusion matrix\n",
    "rf_tuned_tn, \\\n",
    "rf_tuned_fp, \\\n",
    "rf_tuned_fn, \\\n",
    "rf_tuned_tp = confusion_matrix(y_true = rf_y_test, y_pred = forest_tuned_pred).ravel()\n",
    "\n",
    "# printing the results as dynamic string\n",
    "print(f\"\"\"\n",
    "True Negatives : {rf_tuned_tn}\n",
    "False Positives: {rf_tuned_fp}\n",
    "False Negatives: {rf_tuned_fn}\n",
    "True Positives : {rf_tuned_tp}\n",
    "\"\"\")\n",
    "\n"
   ]
  },
  {
   "cell_type": "markdown",
   "metadata": {},
   "source": [
    "## GRADIENT BOOSTING MODEL"
   ]
  },
  {
   "cell_type": "markdown",
   "metadata": {},
   "source": [
    "### DEFAULT MODEL"
   ]
  },
  {
   "cell_type": "code",
   "execution_count": 60,
   "metadata": {},
   "outputs": [
    {
     "name": "stdout",
     "output_type": "stream",
     "text": [
      "\n",
      "Training ACCURACY: 1.0\n",
      "Testing  ACCURACY: 0.7331\n",
      "AUC-Score        : 0.6511\n",
      "\n",
      "\n"
     ]
    }
   ],
   "source": [
    "# splitting data to be used in gbm\n",
    "x_train_gbm, x_test_gbm, y_train_gbm, y_test_gbm = train_test_split(\n",
    "                                                    features.loc[:,top_rf_dict[\"top_25\"]],\n",
    "                                                    target,\n",
    "                                                    test_size    = 0.25,\n",
    "                                                    random_state = 219,\n",
    "                                                    stratify     = target)\n",
    "\n",
    "\n",
    "# Initiating the model object default hyperparameters\n",
    "full_gbm_default = GradientBoostingClassifier(loss          = 'deviance',\n",
    "                                              learning_rate = 0.1,\n",
    "                                              n_estimators  = 100,\n",
    "                                              criterion     = 'friedman_mse',\n",
    "                                              max_depth     = 8,\n",
    "                                              warm_start    = True,\n",
    "                                              random_state  = 219)\n",
    "\n",
    "# fitting based on training data\n",
    "full_gbm_default = full_gbm_default.fit(x_train_gbm, y_train_gbm)\n",
    "\n",
    "\n",
    "# Predicting based on x_test\n",
    "full_gbm_default_pred = full_gbm_default.predict(x_test_gbm)\n",
    "\n",
    "\n",
    "# Saving result\n",
    "deafult_gbm_train = full_gbm_default.score(x_train_gbm, y_train_gbm).round(4)\n",
    "deafult_gbm_test  = full_gbm_default.score(x_test_gbm, y_test_gbm).round(4)\n",
    "deafult_gbm_AUC   = roc_auc_score(y_true  = y_test_gbm,\n",
    "                                  y_score = full_gbm_default_pred).round(4)\n",
    "\n",
    "\n",
    "# printing the results as dynamic string\n",
    "print(f\"\"\"\n",
    "Training ACCURACY: {deafult_gbm_train}\n",
    "Testing  ACCURACY: {deafult_gbm_test}\n",
    "AUC-Score        : {deafult_gbm_AUC}\n",
    "\n",
    "\"\"\")\n",
    "\n"
   ]
  },
  {
   "cell_type": "markdown",
   "metadata": {},
   "source": [
    "#### CONFUSION MATRIX"
   ]
  },
  {
   "cell_type": "code",
   "execution_count": 61,
   "metadata": {},
   "outputs": [
    {
     "name": "stdout",
     "output_type": "stream",
     "text": [
      "\n",
      "True Negatives : 66\n",
      "False Positives: 90\n",
      "False Negatives: 40\n",
      "True Positives : 291\n",
      "\n"
     ]
    }
   ],
   "source": [
    "# unpacking the confusion matrix\n",
    "gbm_default_tn, \\\n",
    "gbm_default_fp, \\\n",
    "gbm_default_fn, \\\n",
    "gbm_default_tp = confusion_matrix(y_true = y_test_gbm, y_pred = full_gbm_default_pred).ravel()\n",
    "\n",
    "# printing the results as dynamic string\n",
    "print(f\"\"\"\n",
    "True Negatives : {gbm_default_tn}\n",
    "False Positives: {gbm_default_fp}\n",
    "False Negatives: {gbm_default_fn}\n",
    "True Positives : {gbm_default_tp}\n",
    "\"\"\")\n",
    "\n"
   ]
  },
  {
   "cell_type": "markdown",
   "metadata": {},
   "source": [
    "### TUNING"
   ]
  },
  {
   "cell_type": "code",
   "execution_count": 62,
   "metadata": {
    "code_folding": []
   },
   "outputs": [
    {
     "name": "stderr",
     "output_type": "stream",
     "text": [
      "C:\\Users\\ukavl\\anaconda3\\lib\\site-packages\\sklearn\\model_selection\\_search.py:278: UserWarning: The total space of parameters 1 is smaller than n_iter=500. Running 1 iterations. For exhaustive searches, use GridSearchCV.\n",
      "  warnings.warn(\n"
     ]
    },
    {
     "name": "stdout",
     "output_type": "stream",
     "text": [
      "Tuned Parameters  : {'warm_start': True, 'n_estimators': 30, 'max_depth': 7, 'loss': 'exponential', 'learning_rate': 0.1, 'criterion': 'friedman_mse'}\n",
      "Tuned Training AUC: 0.6117\n"
     ]
    }
   ],
   "source": [
    "# declaring a hyperparameter space\n",
    "learn_space        = [0.1]\n",
    "estimator_space    = [30]\n",
    "depth_space        = [7]\n",
    "warm_start_space   = [True]\n",
    "loss_space         = ['exponential']\n",
    "criterion_space    = ['friedman_mse']\n",
    "\n",
    "\n",
    "# creating a hyperparameter grid\n",
    "param_grid = {'learning_rate' : learn_space,\n",
    "              \"n_estimators\"   : estimator_space,\n",
    "              'max_depth'     : depth_space,\n",
    "              'warm_start'  : warm_start_space,\n",
    "              \"loss\"        : loss_space,\n",
    "              \"criterion\"   : criterion_space}\n",
    "\n",
    "\n",
    "# INSTANTIATING the model object without hyperparameters\n",
    "full_gbm_grid = GradientBoostingClassifier(random_state = 219)\n",
    "\n",
    "\n",
    "# GridSearchCV object\n",
    "full_gbm_cv = RandomizedSearchCV(estimator = full_gbm_grid,\n",
    "                                 param_distributions = param_grid,\n",
    "                                 cv                  = 3,\n",
    "                                 n_iter              = 500,\n",
    "                                 random_state        = 219,\n",
    "                                 scoring             = make_scorer(roc_auc_score,\n",
    "                                                       needs_threshold = False))\n",
    "\n",
    "\n",
    "\n",
    "full_gbm_cv.fit(features.loc[:,top_rf_dict[\"top_25\"]], target)\n",
    "\n",
    "\n",
    "print(\"Tuned Parameters  :\", full_gbm_cv.best_params_)\n",
    "print(\"Tuned Training AUC:\", full_gbm_cv.best_score_.round(4))"
   ]
  },
  {
   "cell_type": "markdown",
   "metadata": {},
   "source": [
    "### TUNED MODEL"
   ]
  },
  {
   "cell_type": "code",
   "execution_count": 63,
   "metadata": {},
   "outputs": [
    {
     "name": "stdout",
     "output_type": "stream",
     "text": [
      "\n",
      "Training ACCURACY: 0.9068\n",
      "Testing  ACCURACY: 0.9281\n",
      "AUC-Score        : 0.8895\n",
      "\n",
      "\n"
     ]
    }
   ],
   "source": [
    "# Initiating the model with the best parameters\n",
    "gbm_tuned = full_gbm_cv.best_estimator_\n",
    "\n",
    "# Fitting not needed\n",
    "\n",
    "# Predicting based on x_test\n",
    "gbm_tuned_pred = gbm_tuned.predict(x_test_gbm)\n",
    "\n",
    "\n",
    "# Saving the result\n",
    "gbm_tuned_train =  gbm_tuned.score(x_train_gbm, y_train_gbm).round(4)\n",
    "gbm_tuned_test  =  gbm_tuned.score(x_test_gbm, y_test_gbm).round(4)\n",
    "gbm_tuned_AUC   =  roc_auc_score(y_true  = y_test_gbm,\n",
    "                                          y_score = gbm_tuned_pred).round(4)\n",
    "\n",
    "# printing the results as dynamic string\n",
    "print(f\"\"\"\n",
    "Training ACCURACY: {gbm_tuned_train}\n",
    "Testing  ACCURACY: {gbm_tuned_test}\n",
    "AUC-Score        : {gbm_tuned_AUC}\n",
    "\n",
    "\"\"\")\n"
   ]
  },
  {
   "cell_type": "markdown",
   "metadata": {},
   "source": [
    "#### CONFUSION MATRIX"
   ]
  },
  {
   "cell_type": "code",
   "execution_count": 57,
   "metadata": {
    "code_folding": []
   },
   "outputs": [
    {
     "name": "stdout",
     "output_type": "stream",
     "text": [
      "\n",
      "True Negatives : 120\n",
      "False Positives: 36\n",
      "False Negatives: 3\n",
      "True Positives : 328\n",
      "\n"
     ]
    }
   ],
   "source": [
    "# unpacking the confusion matrix\n",
    "gbm_tuned_tn, \\\n",
    "gbm_tuned_fp, \\\n",
    "gbm_tuned_fn, \\\n",
    "gbm_tuned_tp = confusion_matrix(y_true = y_test_gbm, y_pred = gbm_tuned_pred).ravel()\n",
    "\n",
    "# printing the results as dynamic string\n",
    "print(f\"\"\"\n",
    "True Negatives : {gbm_tuned_tn}\n",
    "False Positives: {gbm_tuned_fp}\n",
    "False Negatives: {gbm_tuned_fn}\n",
    "True Positives : {gbm_tuned_tp}\n",
    "\"\"\")\n",
    "\n"
   ]
  },
  {
   "cell_type": "markdown",
   "metadata": {},
   "source": [
    "# MODEL OUTPUT"
   ]
  },
  {
   "cell_type": "code",
   "execution_count": 64,
   "metadata": {},
   "outputs": [
    {
     "name": "stdout",
     "output_type": "stream",
     "text": [
      "\n",
      "                                           MODEL SUMMARY                                            \n",
      "\n",
      "\n",
      "Model\t\tTrain Accuracy\t\tTest Accuracy\t\tAUC-Score\tTN, FP, FN, TP\n",
      "----------------------------------------------------------------------------------------------------\n",
      "LOGIT\t\t0.7265\t\t\t0.7248\t\t\t0.6332\t\t(59, 97, 37, 294)\n",
      "LOGIT Tuned\t0.7279\t\t\t0.7392\t\t\t0.6506\t\t(63, 93, 34, 297)\n",
      "CART\t\t1.0\t\t\t0.616\t\t\t0.5684\t\t(68, 88, 99, 232)\n",
      "CART Tuned\t0.7594\t\t\t0.8049\t\t\t0.7463\t\t(91, 65, 30, 301)\n",
      "KNN\t\t0.721\t\t\t0.6735\t\t\t0.5344\t\t(23, 133, 26, 305)\n",
      "RF\t\t0.6792\t\t\t0.6797\t\t\t0.5\t\t(0, 156, 0, 331)\n",
      "RF Tuned\t0.8533\t\t\t0.8604\t\t\t0.7905\t\t(93, 63, 5, 326)\n",
      "GBM\t\t1.0\t\t\t0.7331\t\t\t0.6511\t\t(66, 90, 40, 291)\n",
      "GBM Tuned\t0.9068\t\t\t0.9281\t\t\t0.8895\t\t(120, 36, 3, 328)\n",
      "\n",
      "\n",
      "\n",
      "\n",
      "                                           WINNING MODEL                                            \n",
      "\n",
      "Model\t\tTrain Accuracy\t\tTest Accuracy\t\tAUC-Score\tConfusion Matrix\n",
      "----------------------------------------------------------------------------------------------------\n",
      "GBM Tuned\t0.9068\t\t\t0.9281\t\t\t0.8895\t\tTrue Negatives : 120\n",
      "\t\t\t\t\t\t\t\t\t\tFalse Positives: 36\n",
      "\t\t\t\t\t\t\t\t\t\tFalse Negatives: 3\n",
      "\t\t\t\t\t\t\t\t\t\tTrue Positives : 328\n",
      "\n",
      "\n"
     ]
    }
   ],
   "source": [
    "print(f\"\"\"\n",
    "{'MODEL SUMMARY' : ^100}\n",
    "\n",
    "\n",
    "Model\\t\\tTrain Accuracy\\t\\tTest Accuracy\\t\\tAUC-Score\\tTN, FP, FN, TP\n",
    "{\"-\"*100}\n",
    "LOGIT\\t\\t{logreg_train_score}\\t\\t\\t{logreg_test_score}\\t\\t\\t{logreg_auc_score}\\t\\t{default_logreg_tn,default_logreg_fp,default_logreg_fn,default_logreg_tp}\n",
    "LOGIT Tuned\\t{tuned_log_train_score}\\t\\t\\t{tuned_log_test_score}\\t\\t\\t{tuned_log_auc_score}\\t\\t{tuned_logreg_tn,tuned_logreg_fp,tuned_logreg_fn,tuned_logreg_tp}\n",
    "CART\\t\\t{default_tree_train_score}\\t\\t\\t{default_tree_test_score}\\t\\t\\t{default_tree_auc_score}\\t\\t{default_rf_tn,default_rf_fp,default_rf_fn,default_rf_tp}\n",
    "CART Tuned\\t{tuned_tree_train_score}\\t\\t\\t{tuned_tree_test_score}\\t\\t\\t{tuned_tree_auc_score}\\t\\t{tuned_rf_tn,tuned_rf_fp,tuned_rf_fn,tuned_rf_tp}\n",
    "KNN\\t\\t{knn_train_score}\\t\\t\\t{knn_test_score}\\t\\t\\t{knn_auc_score}\\t\\t{knn_tn,knn_fp,knn_fn,knn_tp}\n",
    "RF\\t\\t{rf_default_train}\\t\\t\\t{rf_default_test}\\t\\t\\t{rf_default_AUC}\\t\\t{rf_default_tn,rf_default_fp,rf_default_fn,rf_default_tp}\n",
    "RF Tuned\\t{forest_tuned_train_score}\\t\\t\\t{forest_tuned_test_score}\\t\\t\\t{forest_tuned_auc}\\t\\t{rf_tuned_tn,rf_tuned_fp,rf_tuned_fn,rf_tuned_tp}\n",
    "GBM\\t\\t{deafult_gbm_train}\\t\\t\\t{deafult_gbm_test}\\t\\t\\t{deafult_gbm_AUC}\\t\\t{gbm_default_tn,gbm_default_fp,gbm_default_fn,gbm_default_tp}\n",
    "GBM Tuned\\t{gbm_tuned_train}\\t\\t\\t{gbm_tuned_test}\\t\\t\\t{gbm_tuned_AUC}\\t\\t{gbm_tuned_tn,gbm_tuned_fp,gbm_tuned_fn,gbm_tuned_tp}\n",
    "\n",
    "\n",
    "\n",
    "\n",
    "{'WINNING MODEL' : ^100}\n",
    "\n",
    "Model\\t\\tTrain Accuracy\\t\\tTest Accuracy\\t\\tAUC-Score\\tConfusion Matrix\n",
    "{\"-\"*100}\n",
    "GBM Tuned\\t{gbm_tuned_train}\\t\\t\\t{gbm_tuned_test}\\t\\t\\t{gbm_tuned_AUC}\\t\\tTrue Negatives : {gbm_tuned_tn}\n",
    "\\t\\t\\t\\t\\t\\t\\t\\t\\t\\tFalse Positives: {gbm_tuned_fp}\n",
    "\\t\\t\\t\\t\\t\\t\\t\\t\\t\\tFalse Negatives: {gbm_tuned_fn}\n",
    "\\t\\t\\t\\t\\t\\t\\t\\t\\t\\tTrue Positives : {gbm_tuned_tp}\n",
    "\n",
    "\"\"\")"
   ]
  }
 ],
 "metadata": {
  "kernelspec": {
   "display_name": "Python 3",
   "language": "python",
   "name": "python3"
  },
  "language_info": {
   "codemirror_mode": {
    "name": "ipython",
    "version": 3
   },
   "file_extension": ".py",
   "mimetype": "text/x-python",
   "name": "python",
   "nbconvert_exporter": "python",
   "pygments_lexer": "ipython3",
   "version": "3.8.3"
  },
  "toc": {
   "base_numbering": 1,
   "nav_menu": {},
   "number_sections": false,
   "sideBar": true,
   "skip_h1_title": false,
   "title_cell": "Table of Contents",
   "title_sidebar": "Contents",
   "toc_cell": false,
   "toc_position": {
    "height": "calc(100% - 180px)",
    "left": "10px",
    "top": "150px",
    "width": "307.2px"
   },
   "toc_section_display": true,
   "toc_window_display": true
  },
  "varInspector": {
   "cols": {
    "lenName": 16,
    "lenType": 16,
    "lenVar": 40
   },
   "kernels_config": {
    "python": {
     "delete_cmd_postfix": "",
     "delete_cmd_prefix": "del ",
     "library": "var_list.py",
     "varRefreshCmd": "print(var_dic_list())"
    },
    "r": {
     "delete_cmd_postfix": ") ",
     "delete_cmd_prefix": "rm(",
     "library": "var_list.r",
     "varRefreshCmd": "cat(var_dic_list()) "
    }
   },
   "types_to_exclude": [
    "module",
    "function",
    "builtin_function_or_method",
    "instance",
    "_Feature"
   ],
   "window_display": false
  }
 },
 "nbformat": 4,
 "nbformat_minor": 4
}
